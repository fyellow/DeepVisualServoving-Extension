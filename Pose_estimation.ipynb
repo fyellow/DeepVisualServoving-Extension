{
  "nbformat": 4,
  "nbformat_minor": 0,
  "metadata": {
    "colab": {
      "provenance": [],
      "authorship_tag": "ABX9TyNFPuCNjjH4Oup8io92sK0b",
      "include_colab_link": true
    },
    "kernelspec": {
      "name": "python3",
      "display_name": "Python 3"
    },
    "language_info": {
      "name": "python"
    }
  },
  "cells": [
    {
      "cell_type": "markdown",
      "metadata": {
        "id": "view-in-github",
        "colab_type": "text"
      },
      "source": [
        "<a href=\"https://colab.research.google.com/github/fyellow/DeepVisualServoving-Extension/blob/main/Pose_estimation.ipynb\" target=\"_parent\"><img src=\"https://colab.research.google.com/assets/colab-badge.svg\" alt=\"Open In Colab\"/></a>"
      ]
    },
    {
      "cell_type": "markdown",
      "source": [
        "Preprocessing techniques"
      ],
      "metadata": {
        "id": "hbzP-gqWUiAY"
      }
    },
    {
      "cell_type": "code",
      "source": [
        "import numpy as np\n",
        "import cv2\n",
        "import matplotlib.pyplot as plt\n",
        "import seaborn as sns\n",
        "import warnings\n",
        "from skimage import filters\n",
        "import skimage"
      ],
      "metadata": {
        "id": "g9EhsJyvPi_c"
      },
      "execution_count": null,
      "outputs": []
    },
    {
      "cell_type": "code",
      "source": [
        "from google.colab import drive\n",
        "drive.mount('/content/drive')"
      ],
      "metadata": {
        "id": "AX_7sNGwc4ae"
      },
      "execution_count": null,
      "outputs": []
    },
    {
      "cell_type": "code",
      "source": [
        "nemo = cv2.imread(\"/content/drive/MyDrive/Pose estimation - Ryerson Uni/CR-snips/cr-snip.JPG\", 0)\n",
        "#sobeledge\n",
        "sobel_image = filters.sobel(nemo)\n",
        "plt.figure(figsize=(8, 8))\n",
        "plt.imshow(sobel_image)\n",
        "plt.axis(\"off\")\n",
        "plt.show()"
      ],
      "metadata": {
        "id": "_v571EQLcccO"
      },
      "execution_count": null,
      "outputs": []
    },
    {
      "cell_type": "code",
      "source": [
        "#prewitt\n",
        "prewitt_image = filters.prewitt(nemo)\n",
        "plt.figure(figsize=(8, 8))\n",
        "plt.imshow(prewitt_image)\n",
        "plt.axis(\"off\")\n",
        "plt.show()\n"
      ],
      "metadata": {
        "id": "MFIraxO1cf5m"
      },
      "execution_count": null,
      "outputs": []
    },
    {
      "cell_type": "code",
      "source": [
        "#kmeans\n",
        "import numpy as np\n",
        "import matplotlib.pyplot as plt\n",
        "import cv2\n",
        " \n",
        "%matplotlib inline\n",
        "image = cv2.imread(\"/content/drive/MyDrive/Pose estimation - Ryerson Uni/CR-snips/cr-snip.JPG\", 0)\n",
        "image = cv2.cvtColor(image, cv2.COLOR_BGR2RGB)\n",
        " plt.imshow(image)\n",
        "np.unique(np.array(segmented_image==212,dtype=\"uint8\")*255).sha\n",
        "pixel_vals = image.reshape((-1,3))\n",
        "pixel_vals = np.float32(pixel_vals)\n",
        "criteria = (cv2.TERM_CRITERIA_EPS + cv2.TERM_CRITERIA_MAX_ITER, 100, 0.85)\n",
        "k = 3\n",
        "retval, labels, centers = cv2.kmeans(pixel_vals, k, None, criteria, 10, cv2.KMEANS_RANDOM_CENTERS)\n",
        "centers = np.uint8(centers)\n",
        "segmented_data = centers[labels.flatten()]\n",
        "segmented_image = segmented_data.reshape((image.shape))\n",
        "print(np.unique(segmented_image))\n",
        "print(())\n",
        "print(np.unique(np.array(segmented_image==212,dtype=\"uint8\")*255))\n",
        "plt.imshow(np.array(segmented_image==212,dtype=\"uint8\")*255)"
      ],
      "metadata": {
        "id": "ZZhveHZ5fmd4"
      },
      "execution_count": null,
      "outputs": []
    },
    {
      "cell_type": "markdown",
      "source": [
        "K means clustering "
      ],
      "metadata": {
        "id": "1upp93ODPedd"
      }
    },
    {
      "cell_type": "code",
      "execution_count": null,
      "metadata": {
        "id": "ceh8xRC7M20U"
      },
      "outputs": [],
      "source": [
        "import matplotlib.pyplot as plt\n",
        "import numpy as np\n",
        "import cv2"
      ]
    },
    {
      "cell_type": "code",
      "source": [
        "from google.colab import drive\n",
        "drive.mount('/content/drive')"
      ],
      "metadata": {
        "id": "JBWBcqi5NIus"
      },
      "execution_count": null,
      "outputs": []
    },
    {
      "cell_type": "code",
      "source": [
        "nemo = cv2.imread(\"/content/drive/MyDrive/Pose estimation - Ryerson Uni/CR-snips/cr-snip.JPG\")\n",
        "nemo = cv2.cvtColor(nemo, cv2.COLOR_BGR2RGB)\n",
        "plt.imshow(nemo)\n",
        "plt.show() #Show image "
      ],
      "metadata": {
        "id": "65JcJuaGNQUz"
      },
      "execution_count": null,
      "outputs": []
    },
    {
      "cell_type": "code",
      "source": [
        "cent=np.array(nemo[:,:]==(0,255,0),dtype='uint8')"
      ],
      "metadata": {
        "id": "Dj16nJepNTLi"
      },
      "execution_count": null,
      "outputs": []
    },
    {
      "cell_type": "code",
      "source": [
        "!pip install ipython-autotime # to check execution time\n",
        "%load_ext autotime"
      ],
      "metadata": {
        "id": "rFu8vmkKNX2A"
      },
      "execution_count": null,
      "outputs": []
    },
    {
      "cell_type": "code",
      "source": [
        "import pandas as pd\n",
        "dat=pd.DataFrame(\n",
        "    {'x':y,\n",
        "     'y':x}\n",
        ")"
      ],
      "metadata": {
        "id": "Cfoxse0EObfp"
      },
      "execution_count": null,
      "outputs": []
    },
    {
      "cell_type": "code",
      "source": [
        "#kmeans clustering \n",
        "x,y=[],[]\n",
        "for i in range(0,nemo.shape[0]):\n",
        "  for j in range(0,nemo.shape[1]):\n",
        "    if(nemo[i][j][0]<=80 and nemo[i][j][1]>200 and nemo[i][j][2]<=80):\n",
        "      x.append(i)\n",
        "      y.append(j)\n",
        "from sklearn.cluster import KMeans\n",
        "kmeans = KMeans(9) # as there are 9 discs \n",
        "kmeans.fit(dat)"
      ],
      "metadata": {
        "id": "cdF9zZ4rNZ0-"
      },
      "execution_count": null,
      "outputs": []
    },
    {
      "cell_type": "code",
      "source": [
        "plt.scatter(y,x)\n",
        "plt.imshow(nemo)\n",
        "plt.show #show the identified k-means"
      ],
      "metadata": {
        "id": "MIuGy_MdNnmP"
      },
      "execution_count": null,
      "outputs": []
    },
    {
      "cell_type": "code",
      "source": [
        "np.sort(kmeans.cluster_centers_,)\n",
        "x=kmeans.cluster_centers_[:,1]\n",
        "y=kmeans.cluster_centers_[:,0] # sorting centers via x and y coordinates to predict current pose"
      ],
      "metadata": {
        "id": "ic4fnanLNsGZ"
      },
      "execution_count": null,
      "outputs": []
    },
    {
      "cell_type": "code",
      "source": [
        "x,y=x.tolist(),y.tolist()\n",
        "for i in range(9):\n",
        "  for j in range(8):\n",
        "    if(x[j]>x[j+1]):\n",
        "      x[j],y[j],x[j+1],y[j+1]=x[j+1],y[j+1],x[j],y[j] "
      ],
      "metadata": {
        "id": "6ZI7iHf5NxH1"
      },
      "execution_count": null,
      "outputs": []
    },
    {
      "cell_type": "code",
      "source": [
        "plt.plot(y,x,color='r')\n",
        "plt.scatter(y,x)\n",
        "plt.imshow(nemo)\n",
        "plt.show() #plot to find the backbone of continuum robot"
      ],
      "metadata": {
        "id": "Iv_f8AXsOq3o"
      },
      "execution_count": null,
      "outputs": []
    },
    {
      "cell_type": "code",
      "source": [
        "!git branch"
      ],
      "metadata": {
        "colab": {
          "base_uri": "https://localhost:8080/"
        },
        "id": "SzqMz4ipi9IW",
        "outputId": "62387fbb-140a-4ad5-8c6f-5674ba8d6d3b"
      },
      "execution_count": 1,
      "outputs": [
        {
          "output_type": "stream",
          "name": "stdout",
          "text": [
            "fatal: not a git repository (or any of the parent directories): .git\n"
          ]
        }
      ]
    },
    {
      "cell_type": "code",
      "source": [
        "!git init"
      ],
      "metadata": {
        "colab": {
          "base_uri": "https://localhost:8080/"
        },
        "id": "2Q8h4YZbjLNs",
        "outputId": "42ca83e5-8b07-438e-93b0-4862b7650a55"
      },
      "execution_count": 2,
      "outputs": [
        {
          "output_type": "stream",
          "name": "stdout",
          "text": [
            "Initialized empty Git repository in /content/.git/\n"
          ]
        }
      ]
    }
  ]
}